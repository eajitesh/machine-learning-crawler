{
  "nbformat": 4,
  "nbformat_minor": 0,
  "metadata": {
    "colab": {
      "name": "MLCrawler.ipynb",
      "provenance": [],
      "authorship_tag": "ABX9TyMLF6IKIqmXBSVwBsk4ToQ1",
      "include_colab_link": true
    },
    "kernelspec": {
      "name": "python3",
      "display_name": "Python 3"
    },
    "language_info": {
      "name": "python"
    }
  },
  "cells": [
    {
      "cell_type": "markdown",
      "metadata": {
        "id": "view-in-github",
        "colab_type": "text"
      },
      "source": [
        "<a href=\"https://colab.research.google.com/github/eajitesh/machine-learning-crawler/blob/main/MLCrawler.ipynb\" target=\"_parent\"><img src=\"https://colab.research.google.com/assets/colab-badge.svg\" alt=\"Open In Colab\"/></a>"
      ]
    },
    {
      "cell_type": "code",
      "metadata": {
        "colab": {
          "base_uri": "https://localhost:8080/"
        },
        "id": "01iKdWqHqz76",
        "outputId": "d688a2e7-9fdf-4807-f3b4-137d4cf45582"
      },
      "source": [
        "!pip install GoogleNews\n",
        "!pip install arxiv\n",
        "!pip install twitter"
      ],
      "execution_count": 5,
      "outputs": [
        {
          "output_type": "stream",
          "text": [
            "Collecting GoogleNews\n",
            "  Downloading GoogleNews-1.5.8-py3-none-any.whl (7.7 kB)\n",
            "Requirement already satisfied: python-dateutil in /usr/local/lib/python3.7/dist-packages (from GoogleNews) (2.8.1)\n",
            "Collecting dateparser\n",
            "  Downloading dateparser-1.0.0-py2.py3-none-any.whl (279 kB)\n",
            "\u001b[K     |████████████████████████████████| 279 kB 14.2 MB/s \n",
            "\u001b[?25hRequirement already satisfied: beautifulsoup4 in /usr/local/lib/python3.7/dist-packages (from GoogleNews) (4.6.3)\n",
            "Requirement already satisfied: tzlocal in /usr/local/lib/python3.7/dist-packages (from dateparser->GoogleNews) (1.5.1)\n",
            "Requirement already satisfied: regex!=2019.02.19 in /usr/local/lib/python3.7/dist-packages (from dateparser->GoogleNews) (2019.12.20)\n",
            "Requirement already satisfied: pytz in /usr/local/lib/python3.7/dist-packages (from dateparser->GoogleNews) (2018.9)\n",
            "Requirement already satisfied: six>=1.5 in /usr/local/lib/python3.7/dist-packages (from python-dateutil->GoogleNews) (1.15.0)\n",
            "Installing collected packages: dateparser, GoogleNews\n",
            "Successfully installed GoogleNews-1.5.8 dateparser-1.0.0\n",
            "Collecting arxiv\n",
            "  Downloading arxiv-1.4.0-py3-none-any.whl (11 kB)\n",
            "Collecting feedparser\n",
            "  Downloading feedparser-6.0.8-py3-none-any.whl (81 kB)\n",
            "\u001b[K     |████████████████████████████████| 81 kB 6.2 MB/s \n",
            "\u001b[?25hCollecting sgmllib3k\n",
            "  Downloading sgmllib3k-1.0.0.tar.gz (5.8 kB)\n",
            "Building wheels for collected packages: sgmllib3k\n",
            "  Building wheel for sgmllib3k (setup.py) ... \u001b[?25l\u001b[?25hdone\n",
            "  Created wheel for sgmllib3k: filename=sgmllib3k-1.0.0-py3-none-any.whl size=6065 sha256=4a17098223a57e317c8399d2b06cc71759b05b52e572cb921666d34009adcac4\n",
            "  Stored in directory: /root/.cache/pip/wheels/73/ad/a4/0dff4a6ef231fc0dfa12ffbac2a36cebfdddfe059f50e019aa\n",
            "Successfully built sgmllib3k\n",
            "Installing collected packages: sgmllib3k, feedparser, arxiv\n",
            "Successfully installed arxiv-1.4.0 feedparser-6.0.8 sgmllib3k-1.0.0\n",
            "Collecting twitter\n",
            "  Downloading twitter-1.19.3-py2.py3-none-any.whl (50 kB)\n",
            "\u001b[K     |████████████████████████████████| 50 kB 4.9 MB/s \n",
            "\u001b[?25hInstalling collected packages: twitter\n",
            "Successfully installed twitter-1.19.3\n"
          ],
          "name": "stdout"
        }
      ]
    },
    {
      "cell_type": "markdown",
      "metadata": {
        "id": "Ga15OTp8rnhu"
      },
      "source": [
        "# Search Google News"
      ]
    },
    {
      "cell_type": "code",
      "metadata": {
        "colab": {
          "base_uri": "https://localhost:8080/"
        },
        "id": "h-RjaHt1rNNC",
        "outputId": "3045e2c4-6389-4940-cb94-e5d5f52bf251"
      },
      "source": [
        "from GoogleNews import GoogleNews\n",
        "'''\n",
        "Language: lang as English \n",
        "Period: period as number, N, representing news from last N days\n",
        "'''\n",
        "googlenews = GoogleNews(lang='en', period='1d')\n",
        "'''\n",
        "Search method takes parameter as search text\n",
        "'''\n",
        "googlenews.search('machine learning')\n",
        "'''\n",
        "Returns JSON objects representing different news\n",
        "'''\n",
        "results = googlenews.results(sort=True);\n",
        "'''\n",
        "Clear GoogleNews to do fresh search next time\n",
        "'''\n",
        "googlenews.clear()\n",
        "'''\n",
        "Print result\n",
        "'''\n",
        "results"
      ],
      "execution_count": 20,
      "outputs": [
        {
          "output_type": "stream",
          "text": [
            "'<' not supported between instances of 'NoneType' and 'datetime.datetime'\n"
          ],
          "name": "stdout"
        },
        {
          "output_type": "execute_result",
          "data": {
            "text/plain": [
              "[{'date': '36 mins ago',\n",
              "  'datetime': None,\n",
              "  'desc': 'Machine learning to predict an election result ... From Spotify to Netflix, artificial intelligence is curating our own personalised music and movie ...',\n",
              "  'img': 'data:image/gif;base64,R0lGODlhAQABAIAAAP///////yH5BAEKAAEALAAAAAABAAEAAAICTAEAOw==',\n",
              "  'link': 'https://timesofmalta.com/articles/view/machine-learning-to-predict-an-election-result.888976',\n",
              "  'media': 'Times of Malta',\n",
              "  'title': 'Machine learning to predict an election result'},\n",
              " {'date': '46 mins ago',\n",
              "  'datetime': None,\n",
              "  'desc': 'At the 2021 International Conference on Machine Learning (ICML), DARPA, IBM, ... AI algorithms with the deep learning capabilities found in neural networks.',\n",
              "  'img': 'data:image/gif;base64,R0lGODlhAQABAIAAAP///////yH5BAEKAAEALAAAAAABAAEAAAICTAEAOw==',\n",
              "  'link': 'https://analyticsindiamag.com/bezos-blue-origin-common-sense-ai-top-news/',\n",
              "  'media': 'Analytics India Magazine',\n",
              "  'title': 'Bezos Makes History, Common Sense AI And More In This ...'},\n",
              " {'date': '48 mins ago',\n",
              "  'datetime': None,\n",
              "  'desc': 'Know what are the prerequisites for Artificial intelligence and Machine learning careers. Are you planning to start a career in Artificial Intelligence and ...',\n",
              "  'img': 'data:image/gif;base64,R0lGODlhAQABAIAAAP///////yH5BAEKAAEALAAAAAABAAEAAAICTAEAOw==',\n",
              "  'link': 'https://www.analyticsinsight.net/how-to-start-a-career-in-artificial-intelligence-and-machine-learning/',\n",
              "  'media': 'Analytics Insight',\n",
              "  'title': 'How to Start a Career in Artificial Intelligence and Machine ...'},\n",
              " {'date': '2 hours ago',\n",
              "  'datetime': datetime.datetime(2021, 7, 25, 3, 19, 7, 18246),\n",
              "  'desc': 'Vertica 11 includes more in-database machine learning capabilities with the latest release of VerticaPy, an open-source Python library for Vertica that supports ...',\n",
              "  'img': 'data:image/gif;base64,R0lGODlhAQABAIAAAP///////yH5BAEKAAEALAAAAAABAAEAAAICTAEAOw==',\n",
              "  'link': 'https://www.rtinsights.com/real-time-analytics-news-for-week-ending-july-24/',\n",
              "  'media': 'RTInsights',\n",
              "  'title': 'Real-time Analytics News for Week Ending July 24'},\n",
              " {'date': '6 hours ago',\n",
              "  'datetime': datetime.datetime(2021, 7, 24, 23, 19, 7, 20211),\n",
              "  'desc': \"“It's also important for deep space missions, which won't have the option of sounding rocket calibration,” said Dr. Luiz Dos Santos, a solar physicist at NASA's ...\",\n",
              "  'img': 'data:image/gif;base64,R0lGODlhAQABAIAAAP///////yH5BAEKAAEALAAAAAABAAEAAAICTAEAOw==',\n",
              "  'link': 'https://scitechdaily.com/solar-dynamics-observatory-artificial-intelligence-helps-improve-nasas-eyes-on-the-sun/',\n",
              "  'media': 'SciTechDaily',\n",
              "  'title': 'Solar Dynamics Observatory: Artificial Intelligence Helps ...'},\n",
              " {'date': '7 hours ago',\n",
              "  'datetime': datetime.datetime(2021, 7, 24, 22, 19, 7, 22112),\n",
              "  'desc': \"Artificial intelligence and its not-so-positive reputation have always stemmed from one thing: ... When you talk about a machine's learning capabilities, ...\",\n",
              "  'img': 'data:image/gif;base64,R0lGODlhAQABAIAAAP///////yH5BAEKAAEALAAAAAABAAEAAAICTAEAOw==',\n",
              "  'link': 'https://www.techtimes.com/articles/263318/20210724/artificial-intelligence-vs-human-intelligence.htm',\n",
              "  'media': 'Tech Times',\n",
              "  'title': 'Artificial Intelligence Vs. Human Intelligence: How Do They ...'},\n",
              " {'date': '8 hours ago',\n",
              "  'datetime': datetime.datetime(2021, 7, 24, 21, 19, 7, 23990),\n",
              "  'desc': 'MLlib: The RDD-based library comprising machine learning algorithms and utilities including the likes of regression, classification, collaborative filtering, ...',\n",
              "  'img': 'data:image/gif;base64,R0lGODlhAQABAIAAAP///////yH5BAEKAAEALAAAAAABAAEAAAICTAEAOw==',\n",
              "  'link': 'https://analyticsindiamag.com/eight-scala-libraries-for-data-science-in-2021/',\n",
              "  'media': 'Analytics India Magazine',\n",
              "  'title': '8 Scala Libraries For Data Science In 2021'},\n",
              " {'date': '9 hours ago',\n",
              "  'datetime': datetime.datetime(2021, 7, 24, 20, 19, 7, 25725),\n",
              "  'desc': 'Machine Learning & Big Data Analytics Education Market 2021 SWOT Analysis, Competitive Landscape and Significant Growth | Top Brands:Querium Corporation., ...',\n",
              "  'img': 'data:image/gif;base64,R0lGODlhAQABAIAAAP///////yH5BAEKAAEALAAAAAABAAEAAAICTAEAOw==',\n",
              "  'link': 'https://jumbonews.co.uk/uncategorised/3916039/machine-learning-big-data-analytics-education-market-2021-swot-analysis-competitive-landscape-and-significant-growth-top-brandsquerium-corporation-knewton-inc-third-space-learning-bla/',\n",
              "  'media': '',\n",
              "  'title': 'Machine Learning & Big Data Analytics Education Market ...'},\n",
              " {'date': '11 hours ago',\n",
              "  'datetime': datetime.datetime(2021, 7, 24, 18, 19, 7, 29388),\n",
              "  'desc': 'While AI can be traced to the mid-1950s and machine learning dates back to the late 1970s, the concept of deep learning was popularized by the “AlexNet” ...',\n",
              "  'img': 'data:image/gif;base64,R0lGODlhAQABAIAAAP///////yH5BAEKAAEALAAAAAABAAEAAAICTAEAOw==',\n",
              "  'link': 'https://venturebeat.com/2021/07/24/deadline-2024-why-you-only-have-3-years-left-to-adopt-ai/',\n",
              "  'media': 'VentureBeat',\n",
              "  'title': 'Deadline 2024: Why you only have 3 years left to adopt AI'},\n",
              " {'date': '11 hours ago',\n",
              "  'datetime': datetime.datetime(2021, 7, 24, 18, 19, 7, 27480),\n",
              "  'desc': 'Automated machine learning optimizes and accelerates predictive modeling from COVID-19 high throughput datasets ... Sci Rep. 2021 Jul 23;11(1):15107. doi: 10.1038 ...',\n",
              "  'img': 'data:image/gif;base64,R0lGODlhAQABAIAAAP///////yH5BAEKAAEALAAAAAABAAEAAAICTAEAOw==',\n",
              "  'link': 'https://www.docwirenews.com/abstracts/automated-machine-learning-optimizes-and-accelerates-predictive-modeling-from-covid-19-high-throughput-datasets/',\n",
              "  'media': '',\n",
              "  'title': 'Automated machine learning optimizes and accelerates ...'}]"
            ]
          },
          "metadata": {
            "tags": []
          },
          "execution_count": 20
        }
      ]
    },
    {
      "cell_type": "markdown",
      "metadata": {
        "id": "Wh2bhwpnsGVc"
      },
      "source": [
        "# Search Twitter by Hashtags"
      ]
    },
    {
      "cell_type": "code",
      "metadata": {
        "colab": {
          "base_uri": "https://localhost:8080/"
        },
        "id": "4rptuM_DrzdA",
        "outputId": "83fbf457-4ecc-4ad2-87c5-e09886f6c3dc"
      },
      "source": [
        "import twitter\n",
        "'''\n",
        "Instantiate Twitter auth\n",
        "'''\n",
        "CONSUMER_KEY = 'vXcyIZSkF1Un70C977JmxNVmK'\n",
        "CONSUMER_SECRET = 'vM4PFAq0vjK17dcAP6SbdmJNMfZxzl2dQ16t4jucmCnrMKMCAO'\n",
        "OAUTH_ACCESS_TOKEN = '136976940-giJ08B9oTRYvbjXOCOdoDsLA03w0MbfzweK6auN3'\n",
        "OAUTH_ACCESS_TOKEN_SECRET = '1UpSTOI0pyzB0yZXvfKBfoUqT2B6MDD3NpYNigZDkRDza'\n",
        " \n",
        "auth = twitter.oauth.OAuth(OAUTH_ACCESS_TOKEN, OAUTH_ACCESS_TOKEN_SECRET,\n",
        "                           CONSUMER_KEY, CONSUMER_SECRET)\n",
        "'''\n",
        "Get Twitter object\n",
        "'''\n",
        "twitter_api = twitter.Twitter(auth=auth)\n",
        "'''\n",
        "Search twitter by hashtag\n",
        "'''\n",
        "tweets = twitter_api.search.tweets(q=\"#machinelearning AND #datascience AND #deeplearning\", max_results=200)\n",
        "'''\n",
        "Print Tweets\n",
        "'''\n",
        "RETWEET_COUNT_THRESHOLD = 25\n",
        "\n",
        "for status in tweets['statuses']:\n",
        "  if status['retweet_count'] > RETWEET_COUNT_THRESHOLD:\n",
        "    print('\\n\\n', status['user']['screen_name'], \":\", status['text'], '\\nTweet URL: ', status['retweeted_status']['entities']['urls'][0]['expanded_url'],\n",
        "          '\\nRetweet count: ', status['retweet_count'])"
      ],
      "execution_count": 19,
      "outputs": [
        {
          "output_type": "stream",
          "text": [
            "\n",
            "\n",
            " ItsMrRothstein : RT @KirkDBorne: Top #Artificialintelligence Books for reading, learning, &amp; growing your knowledge: https://t.co/jd4NpyYF7x\n",
            "———————\n",
            "#BigData… \n",
            "Tweet URL:  http://amzn.to/2YRE6Sj \n",
            "Retweet count:  26\n",
            "\n",
            "\n",
            " TheCuriousLuke : RT @KirkDBorne: Top #Artificialintelligence Books for reading, learning, &amp; growing your knowledge: https://t.co/jd4NpyYF7x\n",
            "———————\n",
            "#BigData… \n",
            "Tweet URL:  http://amzn.to/2YRE6Sj \n",
            "Retweet count:  26\n",
            "\n",
            "\n",
            " markher13797034 : RT @KirkDBorne: Top #Artificialintelligence Books for reading, learning, &amp; growing your knowledge: https://t.co/jd4NpyYF7x\n",
            "———————\n",
            "#BigData… \n",
            "Tweet URL:  http://amzn.to/2YRE6Sj \n",
            "Retweet count:  26\n",
            "\n",
            "\n",
            " JPCueva : RT @KirkDBorne: Top #Artificialintelligence Books for reading, learning, &amp; growing your knowledge: https://t.co/jd4NpyYF7x\n",
            "———————\n",
            "#BigData… \n",
            "Tweet URL:  http://amzn.to/2YRE6Sj \n",
            "Retweet count:  26\n",
            "\n",
            "\n",
            " SpirosMargaris : RT @KirkDBorne: Top #Artificialintelligence Books for reading, learning, &amp; growing your knowledge: https://t.co/jd4NpyYF7x\n",
            "———————\n",
            "#BigData… \n",
            "Tweet URL:  http://amzn.to/2YRE6Sj \n",
            "Retweet count:  26\n"
          ],
          "name": "stdout"
        }
      ]
    },
    {
      "cell_type": "markdown",
      "metadata": {
        "id": "qZjZdCDevkjl"
      },
      "source": [
        "# Search Arxiv Papers "
      ]
    },
    {
      "cell_type": "code",
      "metadata": {
        "colab": {
          "base_uri": "https://localhost:8080/"
        },
        "id": "t6Cjxb3psmVG",
        "outputId": "026065f9-3b75-4f1e-c1d8-eb98f732f82d"
      },
      "source": [
        "import arxiv\n",
        "'''\n",
        "Create Arxiv Search object\n",
        "'''\n",
        "MAX_RESULTS_COUNT = 5\n",
        "\n",
        "search = arxiv.Search(\n",
        "  query = \"\\\"data science\\\" AND \\\"machine learning\\\"\",\n",
        "  max_results = MAX_RESULTS_COUNT,\n",
        "  sort_by = arxiv.SortCriterion.SubmittedDate,\n",
        "  sort_order = arxiv.SortOrder.Descending\n",
        ")\n",
        "'''\n",
        "Print search results\n",
        "'''\n",
        "for result in search.results():\n",
        "  print('Title: ', result.title, '\\nDate: ',result.published , '\\nId: ', result.entry_id, '\\nSummary: ',\n",
        "        result.summary ,'\\nURL: ', result.pdf_url, '\\n\\n')"
      ],
      "execution_count": 17,
      "outputs": [
        {
          "output_type": "stream",
          "text": [
            "Title:  Unsupervised learning of topological phase diagram using topological data analysis \n",
            "Date:  2021-07-22 05:57:08+00:00 \n",
            "Id:  http://arxiv.org/abs/2107.10468v1 \n",
            "Summary:  Topology and machine learning are two actively researched topics not only in\n",
            "condensed matter physics, but also in data science. Here, we propose the use of\n",
            "topological data analysis in unsupervised learning of the topological phase\n",
            "diagrams. This is possible because the quantum distance can capture the shape\n",
            "of the space formed by the Bloch wavefunctions as we sweep over the Brillouin\n",
            "zone. Therefore, if we minimize the volume of the space formed by the\n",
            "wavefunction through a continuous deformation, the wavefunctions will end up\n",
            "forming distinct spaces which depend on the topology of the wavefunctions.\n",
            "Combining this observation with the topological data analysis, which provides\n",
            "tools such as the persistence diagram to capture the topology of the space\n",
            "formed by the wavefunctions, we can cluster together Hamiltonians that give\n",
            "rise to similar persistence diagrams after the deformation. By examining these\n",
            "clusters as well as representative persistence diagrams in the clusters, we can\n",
            "draw the phase diagram as well as distinguish between topologically trivial and\n",
            "nontrivial phases. We demonstrate our approach using various models. \n",
            "URL:  http://arxiv.org/pdf/2107.10468v1 \n",
            "\n",
            "\n",
            "Title:  Extracting Governing Laws from Sample Path Data of Non-Gaussian Stochastic Dynamical Systems \n",
            "Date:  2021-07-21 14:50:36+00:00 \n",
            "Id:  http://arxiv.org/abs/2107.10127v1 \n",
            "Summary:  Advances in data science are leading to new progresses in the analysis and\n",
            "understanding of complex dynamics for systems with experimental and\n",
            "observational data. With numerous physical phenomena exhibiting bursting,\n",
            "flights, hopping, and intermittent features, stochastic differential equations\n",
            "with non-Gaussian L\\'evy noise are suitable to model these systems. Thus it is\n",
            "desirable and essential to infer such equations from available data to\n",
            "reasonably predict dynamical behaviors. In this work, we consider a data-driven\n",
            "method to extract stochastic dynamical systems with non-Gaussian asymmetric\n",
            "(rather than the symmetric) L\\'evy process, as well as Gaussian Brownian\n",
            "motion. We establish a theoretical framework and design a numerical algorithm\n",
            "to compute the asymmetric L\\'evy jump measure, drift and diffusion (i.e.,\n",
            "nonlocal Kramers-Moyal formulas), hence obtaining the stochastic governing law,\n",
            "from noisy data. Numerical experiments on several prototypical examples confirm\n",
            "the efficacy and accuracy of this method. This method will become an effective\n",
            "tool in discovering the governing laws from available data sets and in\n",
            "understanding the mechanisms underlying complex random phenomena. \n",
            "URL:  http://arxiv.org/pdf/2107.10127v1 \n",
            "\n",
            "\n",
            "Title:  AI in Finance: Challenges, Techniques and Opportunities \n",
            "Date:  2021-07-20 01:39:10+00:00 \n",
            "Id:  http://arxiv.org/abs/2107.09051v1 \n",
            "Summary:  AI in finance broadly refers to the applications of AI techniques in\n",
            "financial businesses. This area has been lasting for decades with both classic\n",
            "and modern AI techniques applied to increasingly broader areas of finance,\n",
            "economy and society. In contrast to either discussing the problems, aspects and\n",
            "opportunities of finance that have benefited from specific AI techniques and in\n",
            "particular some new-generation AI and data science (AIDS) areas or reviewing\n",
            "the progress of applying specific techniques to resolving certain financial\n",
            "problems, this review offers a comprehensive and dense roadmap of the\n",
            "overwhelming challenges, techniques and opportunities of AI research in finance\n",
            "over the past decades. The landscapes and challenges of financial businesses\n",
            "and data are firstly outlined, followed by a comprehensive categorization and a\n",
            "dense overview of the decades of AI research in finance. We then structure and\n",
            "illustrate the data-driven analytics and learning of financial businesses and\n",
            "data. The comparison, criticism and discussion of classic vs. modern AI\n",
            "techniques for finance are followed. Lastly, open issues and opportunities\n",
            "address future AI-empowered finance and finance-motivated AI research. \n",
            "URL:  http://arxiv.org/pdf/2107.09051v1 \n",
            "\n",
            "\n",
            "Title:  Encoding Domain Information with Sparse Priors for Inferring Explainable Latent Variables \n",
            "Date:  2021-07-08 10:19:32+00:00 \n",
            "Id:  http://arxiv.org/abs/2107.03730v1 \n",
            "Summary:  Latent variable models are powerful statistical tools that can uncover\n",
            "relevant variation between patients or cells, by inferring unobserved hidden\n",
            "states from observable high-dimensional data. A major shortcoming of current\n",
            "methods, however, is their inability to learn sparse and interpretable hidden\n",
            "states. Additionally, in settings where partial knowledge on the latent\n",
            "structure of the data is readily available, a statistically sound integration\n",
            "of prior information into current methods is challenging. To address these\n",
            "issues, we propose spex-LVM, a factorial latent variable model with sparse\n",
            "priors to encourage the inference of explainable factors driven by\n",
            "domain-relevant information. spex-LVM utilizes existing knowledge of curated\n",
            "biomedical pathways to automatically assign annotated attributes to latent\n",
            "factors, yielding interpretable results tailored to the corresponding domain of\n",
            "interest. Evaluations on simulated and real single-cell RNA-seq datasets\n",
            "demonstrate that our model robustly identifies relevant structure in an\n",
            "inherently explainable manner, distinguishes technical noise from sources of\n",
            "biomedical variation, and provides dataset-specific adaptations of existing\n",
            "pathway annotations. Implementation is available at\n",
            "https://github.com/MLO-lab/spexlvm. \n",
            "URL:  http://arxiv.org/pdf/2107.03730v1 \n",
            "\n",
            "\n",
            "Title:  Model-agnostic multi-objective approach for the evolutionary discovery of mathematical models \n",
            "Date:  2021-07-07 11:17:09+00:00 \n",
            "Id:  http://arxiv.org/abs/2107.03146v2 \n",
            "Summary:  In modern data science, it is often not enough to obtain only a data-driven\n",
            "model with a good prediction quality. On the contrary, it is more interesting\n",
            "to understand the properties of the model, which parts could be replaced to\n",
            "obtain better results. Such questions are unified under machine learning\n",
            "interpretability questions, which could be considered one of the area's raising\n",
            "topics. In the paper, we use multi-objective evolutionary optimization for\n",
            "composite data-driven model learning to obtain the algorithm's desired\n",
            "properties. It means that whereas one of the apparent objectives is precision,\n",
            "the other could be chosen as the complexity of the model, robustness, and many\n",
            "others. The method application is shown on examples of multi-objective learning\n",
            "of composite models, differential equations, and closed-form algebraic\n",
            "expressions are unified and form approach for model-agnostic learning of the\n",
            "interpretable models. \n",
            "URL:  http://arxiv.org/pdf/2107.03146v2 \n",
            "\n",
            "\n"
          ],
          "name": "stdout"
        }
      ]
    },
    {
      "cell_type": "code",
      "metadata": {
        "id": "kL9s5sNIvxuq"
      },
      "source": [
        ""
      ],
      "execution_count": null,
      "outputs": []
    }
  ]
}